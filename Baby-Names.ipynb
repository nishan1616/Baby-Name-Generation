{
 "cells": [
  {
   "cell_type": "code",
   "execution_count": 1,
   "metadata": {},
   "outputs": [
    {
     "name": "stdout",
     "output_type": "stream",
     "text": [
      "WARNING:tensorflow:From c:\\Users\\User\\anaconda3\\envs\\Dekalog\\Lib\\site-packages\\keras\\src\\losses.py:2976: The name tf.losses.sparse_softmax_cross_entropy is deprecated. Please use tf.compat.v1.losses.sparse_softmax_cross_entropy instead.\n",
      "\n"
     ]
    }
   ],
   "source": [
    "import os \n",
    "import time \n",
    "from tqdm.notebook import tqdm\n",
    "\n",
    "import numpy as np\n",
    "import pandas as pd\n",
    "import matplotlib.pyplot as plt\n",
    "import seaborn as sns \n",
    "\n",
    "import torch\n",
    "import torch.nn as nn\n",
    "import torch.nn.functional as F\n",
    "import torch.optim as optim\n",
    "from torch.utils.data import Dataset, DataLoader\n",
    "from torch.utils.tensorboard import SummaryWriter\n",
    "from torchsummary import summary\n",
    "\n",
    "import string \n",
    "from collections import Counter"
   ]
  },
  {
   "cell_type": "code",
   "execution_count": 2,
   "metadata": {},
   "outputs": [],
   "source": [
    "writer = SummaryWriter(os.path.join(\"runs\", \"baby-names\"))"
   ]
  },
  {
   "cell_type": "markdown",
   "metadata": {},
   "source": [
    "# 1. Load Data"
   ]
  },
  {
   "cell_type": "code",
   "execution_count": 3,
   "metadata": {},
   "outputs": [
    {
     "name": "stdout",
     "output_type": "stream",
     "text": [
      "(1825433, 5)\n"
     ]
    },
    {
     "data": {
      "text/html": [
       "<div>\n",
       "<style scoped>\n",
       "    .dataframe tbody tr th:only-of-type {\n",
       "        vertical-align: middle;\n",
       "    }\n",
       "\n",
       "    .dataframe tbody tr th {\n",
       "        vertical-align: top;\n",
       "    }\n",
       "\n",
       "    .dataframe thead th {\n",
       "        text-align: right;\n",
       "    }\n",
       "</style>\n",
       "<table border=\"1\" class=\"dataframe\">\n",
       "  <thead>\n",
       "    <tr style=\"text-align: right;\">\n",
       "      <th></th>\n",
       "      <th>Id</th>\n",
       "      <th>Name</th>\n",
       "      <th>Year</th>\n",
       "      <th>Gender</th>\n",
       "      <th>Count</th>\n",
       "    </tr>\n",
       "  </thead>\n",
       "  <tbody>\n",
       "    <tr>\n",
       "      <th>0</th>\n",
       "      <td>1</td>\n",
       "      <td>Mary</td>\n",
       "      <td>1880</td>\n",
       "      <td>F</td>\n",
       "      <td>7065</td>\n",
       "    </tr>\n",
       "    <tr>\n",
       "      <th>1</th>\n",
       "      <td>2</td>\n",
       "      <td>Anna</td>\n",
       "      <td>1880</td>\n",
       "      <td>F</td>\n",
       "      <td>2604</td>\n",
       "    </tr>\n",
       "    <tr>\n",
       "      <th>2</th>\n",
       "      <td>3</td>\n",
       "      <td>Emma</td>\n",
       "      <td>1880</td>\n",
       "      <td>F</td>\n",
       "      <td>2003</td>\n",
       "    </tr>\n",
       "    <tr>\n",
       "      <th>3</th>\n",
       "      <td>4</td>\n",
       "      <td>Elizabeth</td>\n",
       "      <td>1880</td>\n",
       "      <td>F</td>\n",
       "      <td>1939</td>\n",
       "    </tr>\n",
       "    <tr>\n",
       "      <th>4</th>\n",
       "      <td>5</td>\n",
       "      <td>Minnie</td>\n",
       "      <td>1880</td>\n",
       "      <td>F</td>\n",
       "      <td>1746</td>\n",
       "    </tr>\n",
       "  </tbody>\n",
       "</table>\n",
       "</div>"
      ],
      "text/plain": [
       "   Id       Name  Year Gender  Count\n",
       "0   1       Mary  1880      F   7065\n",
       "1   2       Anna  1880      F   2604\n",
       "2   3       Emma  1880      F   2003\n",
       "3   4  Elizabeth  1880      F   1939\n",
       "4   5     Minnie  1880      F   1746"
      ]
     },
     "execution_count": 3,
     "metadata": {},
     "output_type": "execute_result"
    }
   ],
   "source": [
    "data_path = os.path.join(\"storage\", \"data\", \"baby-names\", \"NationalNames.csv\")\n",
    "data = pd.read_csv(data_path)\n",
    "print(data.shape)\n",
    "data.head()"
   ]
  },
  {
   "cell_type": "code",
   "execution_count": 4,
   "metadata": {},
   "outputs": [
    {
     "name": "stdout",
     "output_type": "stream",
     "text": [
      "<class 'pandas.core.frame.DataFrame'>\n",
      "RangeIndex: 1825433 entries, 0 to 1825432\n",
      "Data columns (total 5 columns):\n",
      " #   Column  Dtype \n",
      "---  ------  ----- \n",
      " 0   Id      int64 \n",
      " 1   Name    object\n",
      " 2   Year    int64 \n",
      " 3   Gender  object\n",
      " 4   Count   int64 \n",
      "dtypes: int64(3), object(2)\n",
      "memory usage: 69.6+ MB\n"
     ]
    }
   ],
   "source": [
    "data.info()"
   ]
  },
  {
   "cell_type": "markdown",
   "metadata": {},
   "source": [
    "# 2. Clean Data"
   ]
  },
  {
   "cell_type": "code",
   "execution_count": 5,
   "metadata": {},
   "outputs": [],
   "source": [
    "def clean(name):\n",
    "    name = name.lower().strip()\n",
    "    name = \"\".join([c for c in name if c in string.ascii_lowercase])\n",
    "    name += \".\"\n",
    "    return name"
   ]
  },
  {
   "cell_type": "code",
   "execution_count": 6,
   "metadata": {},
   "outputs": [
    {
     "data": {
      "text/html": [
       "<div>\n",
       "<style scoped>\n",
       "    .dataframe tbody tr th:only-of-type {\n",
       "        vertical-align: middle;\n",
       "    }\n",
       "\n",
       "    .dataframe tbody tr th {\n",
       "        vertical-align: top;\n",
       "    }\n",
       "\n",
       "    .dataframe thead th {\n",
       "        text-align: right;\n",
       "    }\n",
       "</style>\n",
       "<table border=\"1\" class=\"dataframe\">\n",
       "  <thead>\n",
       "    <tr style=\"text-align: right;\">\n",
       "      <th></th>\n",
       "      <th>Id</th>\n",
       "      <th>Name</th>\n",
       "      <th>Year</th>\n",
       "      <th>Gender</th>\n",
       "      <th>Count</th>\n",
       "    </tr>\n",
       "  </thead>\n",
       "  <tbody>\n",
       "    <tr>\n",
       "      <th>0</th>\n",
       "      <td>1</td>\n",
       "      <td>mary.</td>\n",
       "      <td>1880</td>\n",
       "      <td>F</td>\n",
       "      <td>7065</td>\n",
       "    </tr>\n",
       "    <tr>\n",
       "      <th>1</th>\n",
       "      <td>2</td>\n",
       "      <td>anna.</td>\n",
       "      <td>1880</td>\n",
       "      <td>F</td>\n",
       "      <td>2604</td>\n",
       "    </tr>\n",
       "    <tr>\n",
       "      <th>2</th>\n",
       "      <td>3</td>\n",
       "      <td>emma.</td>\n",
       "      <td>1880</td>\n",
       "      <td>F</td>\n",
       "      <td>2003</td>\n",
       "    </tr>\n",
       "    <tr>\n",
       "      <th>3</th>\n",
       "      <td>4</td>\n",
       "      <td>elizabeth.</td>\n",
       "      <td>1880</td>\n",
       "      <td>F</td>\n",
       "      <td>1939</td>\n",
       "    </tr>\n",
       "    <tr>\n",
       "      <th>4</th>\n",
       "      <td>5</td>\n",
       "      <td>minnie.</td>\n",
       "      <td>1880</td>\n",
       "      <td>F</td>\n",
       "      <td>1746</td>\n",
       "    </tr>\n",
       "  </tbody>\n",
       "</table>\n",
       "</div>"
      ],
      "text/plain": [
       "   Id        Name  Year Gender  Count\n",
       "0   1       mary.  1880      F   7065\n",
       "1   2       anna.  1880      F   2604\n",
       "2   3       emma.  1880      F   2003\n",
       "3   4  elizabeth.  1880      F   1939\n",
       "4   5     minnie.  1880      F   1746"
      ]
     },
     "execution_count": 6,
     "metadata": {},
     "output_type": "execute_result"
    }
   ],
   "source": [
    "data[\"Name\"] = data[\"Name\"].apply(clean)\n",
    "data.head()"
   ]
  },
  {
   "cell_type": "code",
   "execution_count": 7,
   "metadata": {},
   "outputs": [
    {
     "name": "stdout",
     "output_type": "stream",
     "text": [
      "93889\n"
     ]
    },
    {
     "data": {
      "text/html": [
       "<div>\n",
       "<style scoped>\n",
       "    .dataframe tbody tr th:only-of-type {\n",
       "        vertical-align: middle;\n",
       "    }\n",
       "\n",
       "    .dataframe tbody tr th {\n",
       "        vertical-align: top;\n",
       "    }\n",
       "\n",
       "    .dataframe thead th {\n",
       "        text-align: right;\n",
       "    }\n",
       "</style>\n",
       "<table border=\"1\" class=\"dataframe\">\n",
       "  <thead>\n",
       "    <tr style=\"text-align: right;\">\n",
       "      <th></th>\n",
       "      <th>Count</th>\n",
       "    </tr>\n",
       "    <tr>\n",
       "      <th>Name</th>\n",
       "      <th></th>\n",
       "    </tr>\n",
       "  </thead>\n",
       "  <tbody>\n",
       "    <tr>\n",
       "      <th>aaban.</th>\n",
       "      <td>72</td>\n",
       "    </tr>\n",
       "    <tr>\n",
       "      <th>aabha.</th>\n",
       "      <td>21</td>\n",
       "    </tr>\n",
       "    <tr>\n",
       "      <th>aabid.</th>\n",
       "      <td>5</td>\n",
       "    </tr>\n",
       "    <tr>\n",
       "      <th>aabriella.</th>\n",
       "      <td>10</td>\n",
       "    </tr>\n",
       "    <tr>\n",
       "      <th>aadam.</th>\n",
       "      <td>196</td>\n",
       "    </tr>\n",
       "  </tbody>\n",
       "</table>\n",
       "</div>"
      ],
      "text/plain": [
       "            Count\n",
       "Name             \n",
       "aaban.         72\n",
       "aabha.         21\n",
       "aabid.          5\n",
       "aabriella.     10\n",
       "aadam.        196"
      ]
     },
     "execution_count": 7,
     "metadata": {},
     "output_type": "execute_result"
    }
   ],
   "source": [
    "names = data[[\"Name\", \"Count\"]].groupby(\"Name\").sum()\n",
    "#del names.index.name\n",
    "print(len(names))\n",
    "names.head()"
   ]
  },
  {
   "cell_type": "code",
   "execution_count": 8,
   "metadata": {},
   "outputs": [
    {
     "data": {
      "text/plain": [
       "16"
      ]
     },
     "execution_count": 8,
     "metadata": {},
     "output_type": "execute_result"
    }
   ],
   "source": [
    "pd.Series(names.index).apply(len).max()"
   ]
  },
  {
   "cell_type": "code",
   "execution_count": 9,
   "metadata": {},
   "outputs": [
    {
     "name": "stdout",
     "output_type": "stream",
     "text": [
      "[True, True, True, True, True, True, True, True, True, True]\n",
      "(93889, 1)\n",
      "(92889, 1)\n"
     ]
    }
   ],
   "source": [
    "max_length = 11\n",
    "len_filter = pd.Series(names.index).apply(lambda x: len(x) <= max_length).tolist()\n",
    "print(len_filter[:10])\n",
    "print(names.shape)\n",
    "names = names[len_filter]\n",
    "print(names.shape)"
   ]
  },
  {
   "cell_type": "code",
   "execution_count": 10,
   "metadata": {},
   "outputs": [
    {
     "data": {
      "text/plain": [
       "11"
      ]
     },
     "execution_count": 10,
     "metadata": {},
     "output_type": "execute_result"
    }
   ],
   "source": [
    "pd.Series(names.index).apply(len).max()"
   ]
  },
  {
   "cell_type": "code",
   "execution_count": 11,
   "metadata": {},
   "outputs": [
    {
     "data": {
      "text/html": [
       "<div>\n",
       "<style scoped>\n",
       "    .dataframe tbody tr th:only-of-type {\n",
       "        vertical-align: middle;\n",
       "    }\n",
       "\n",
       "    .dataframe tbody tr th {\n",
       "        vertical-align: top;\n",
       "    }\n",
       "\n",
       "    .dataframe thead th {\n",
       "        text-align: right;\n",
       "    }\n",
       "</style>\n",
       "<table border=\"1\" class=\"dataframe\">\n",
       "  <thead>\n",
       "    <tr style=\"text-align: right;\">\n",
       "      <th></th>\n",
       "      <th>Count</th>\n",
       "    </tr>\n",
       "    <tr>\n",
       "      <th>Name</th>\n",
       "      <th></th>\n",
       "    </tr>\n",
       "  </thead>\n",
       "  <tbody>\n",
       "    <tr>\n",
       "      <th>james.</th>\n",
       "      <td>5129096</td>\n",
       "    </tr>\n",
       "    <tr>\n",
       "      <th>john.</th>\n",
       "      <td>5106590</td>\n",
       "    </tr>\n",
       "    <tr>\n",
       "      <th>robert.</th>\n",
       "      <td>4816785</td>\n",
       "    </tr>\n",
       "    <tr>\n",
       "      <th>michael.</th>\n",
       "      <td>4330805</td>\n",
       "    </tr>\n",
       "    <tr>\n",
       "      <th>mary.</th>\n",
       "      <td>4130441</td>\n",
       "    </tr>\n",
       "  </tbody>\n",
       "</table>\n",
       "</div>"
      ],
      "text/plain": [
       "            Count\n",
       "Name             \n",
       "james.    5129096\n",
       "john.     5106590\n",
       "robert.   4816785\n",
       "michael.  4330805\n",
       "mary.     4130441"
      ]
     },
     "execution_count": 11,
     "metadata": {},
     "output_type": "execute_result"
    }
   ],
   "source": [
    "names = names.sort_values(by=[\"Count\"], ascending=False)\n",
    "names.head()"
   ]
  },
  {
   "cell_type": "markdown",
   "metadata": {},
   "source": [
    "# 3. Set Training Data"
   ]
  },
  {
   "cell_type": "code",
   "execution_count": 12,
   "metadata": {},
   "outputs": [
    {
     "data": {
      "text/plain": [
       "count    9.288900e+04\n",
       "mean     3.606536e+03\n",
       "std      5.557699e+04\n",
       "min      5.000000e+00\n",
       "25%      1.100000e+01\n",
       "50%      4.500000e+01\n",
       "75%      2.400000e+02\n",
       "max      5.129096e+06\n",
       "Name: Count, dtype: float64"
      ]
     },
     "execution_count": 12,
     "metadata": {},
     "output_type": "execute_result"
    }
   ],
   "source": [
    "names[\"Count\"].describe()"
   ]
  },
  {
   "cell_type": "code",
   "execution_count": 13,
   "metadata": {},
   "outputs": [
    {
     "name": "stderr",
     "output_type": "stream",
     "text": [
      "C:\\Users\\User\\AppData\\Local\\Temp\\ipykernel_24364\\3411911399.py:2: DeprecationWarning: `np.int` is a deprecated alias for the builtin `int`. To silence this warning, use `int` by itself. Doing this will not modify any behavior and is safe. When replacing `np.int`, you may wish to use e.g. `np.int64` or `np.int32` to specify the precision. If you wish to review your current use, check the release note link for additional information.\n",
      "Deprecated in NumPy 1.20; for more details and guidance: https://numpy.org/devdocs/release/1.20.0-notes.html#deprecations\n",
      "  names[\"Count\"].apply(lambda x: np.power(x, alpha)).apply(np.int).describe()\n"
     ]
    },
    {
     "data": {
      "text/plain": [
       "count     92889.000000\n",
       "mean        342.499295\n",
       "std        3211.942902\n",
       "min           3.000000\n",
       "25%           6.000000\n",
       "50%          21.000000\n",
       "75%          80.000000\n",
       "max      233363.000000\n",
       "Name: Count, dtype: float64"
      ]
     },
     "execution_count": 13,
     "metadata": {},
     "output_type": "execute_result"
    }
   ],
   "source": [
    "alpha = 0.8\n",
    "names[\"Count\"].apply(lambda x: np.power(x, alpha)).apply(np.int).describe()"
   ]
  },
  {
   "cell_type": "code",
   "execution_count": 14,
   "metadata": {},
   "outputs": [
    {
     "name": "stderr",
     "output_type": "stream",
     "text": [
      "C:\\Users\\User\\AppData\\Local\\Temp\\ipykernel_24364\\1420255283.py:1: DeprecationWarning: `np.int` is a deprecated alias for the builtin `int`. To silence this warning, use `int` by itself. Doing this will not modify any behavior and is safe. When replacing `np.int`, you may wish to use e.g. `np.int64` or `np.int32` to specify the precision. If you wish to review your current use, check the release note link for additional information.\n",
      "Deprecated in NumPy 1.20; for more details and guidance: https://numpy.org/devdocs/release/1.20.0-notes.html#deprecations\n",
      "  names[\"count_normalized\"] = names[\"Count\"].apply(lambda x: np.power(x, alpha)).apply(np.int)\n"
     ]
    },
    {
     "data": {
      "text/html": [
       "<div>\n",
       "<style scoped>\n",
       "    .dataframe tbody tr th:only-of-type {\n",
       "        vertical-align: middle;\n",
       "    }\n",
       "\n",
       "    .dataframe tbody tr th {\n",
       "        vertical-align: top;\n",
       "    }\n",
       "\n",
       "    .dataframe thead th {\n",
       "        text-align: right;\n",
       "    }\n",
       "</style>\n",
       "<table border=\"1\" class=\"dataframe\">\n",
       "  <thead>\n",
       "    <tr style=\"text-align: right;\">\n",
       "      <th></th>\n",
       "      <th>Count</th>\n",
       "      <th>count_normalized</th>\n",
       "    </tr>\n",
       "    <tr>\n",
       "      <th>Name</th>\n",
       "      <th></th>\n",
       "      <th></th>\n",
       "    </tr>\n",
       "  </thead>\n",
       "  <tbody>\n",
       "    <tr>\n",
       "      <th>james.</th>\n",
       "      <td>5129096</td>\n",
       "      <td>233363</td>\n",
       "    </tr>\n",
       "    <tr>\n",
       "      <th>john.</th>\n",
       "      <td>5106590</td>\n",
       "      <td>232543</td>\n",
       "    </tr>\n",
       "    <tr>\n",
       "      <th>robert.</th>\n",
       "      <td>4816785</td>\n",
       "      <td>221924</td>\n",
       "    </tr>\n",
       "    <tr>\n",
       "      <th>michael.</th>\n",
       "      <td>4330805</td>\n",
       "      <td>203823</td>\n",
       "    </tr>\n",
       "    <tr>\n",
       "      <th>mary.</th>\n",
       "      <td>4130441</td>\n",
       "      <td>196244</td>\n",
       "    </tr>\n",
       "  </tbody>\n",
       "</table>\n",
       "</div>"
      ],
      "text/plain": [
       "            Count  count_normalized\n",
       "Name                               \n",
       "james.    5129096            233363\n",
       "john.     5106590            232543\n",
       "robert.   4816785            221924\n",
       "michael.  4330805            203823\n",
       "mary.     4130441            196244"
      ]
     },
     "execution_count": 14,
     "metadata": {},
     "output_type": "execute_result"
    }
   ],
   "source": [
    "names[\"count_normalized\"] = names[\"Count\"].apply(lambda x: np.power(x, alpha)).apply(np.int)\n",
    "names.head()"
   ]
  },
  {
   "cell_type": "code",
   "execution_count": 15,
   "metadata": {},
   "outputs": [
    {
     "name": "stdout",
     "output_type": "stream",
     "text": [
      "31814417\n"
     ]
    }
   ],
   "source": [
    "count_normalized_sum = names[\"count_normalized\"].sum()\n",
    "print(count_normalized_sum)"
   ]
  },
  {
   "cell_type": "code",
   "execution_count": 16,
   "metadata": {},
   "outputs": [
    {
     "data": {
      "text/html": [
       "<div>\n",
       "<style scoped>\n",
       "    .dataframe tbody tr th:only-of-type {\n",
       "        vertical-align: middle;\n",
       "    }\n",
       "\n",
       "    .dataframe tbody tr th {\n",
       "        vertical-align: top;\n",
       "    }\n",
       "\n",
       "    .dataframe thead th {\n",
       "        text-align: right;\n",
       "    }\n",
       "</style>\n",
       "<table border=\"1\" class=\"dataframe\">\n",
       "  <thead>\n",
       "    <tr style=\"text-align: right;\">\n",
       "      <th></th>\n",
       "      <th>Count</th>\n",
       "      <th>count_normalized</th>\n",
       "      <th>p</th>\n",
       "    </tr>\n",
       "    <tr>\n",
       "      <th>Name</th>\n",
       "      <th></th>\n",
       "      <th></th>\n",
       "      <th></th>\n",
       "    </tr>\n",
       "  </thead>\n",
       "  <tbody>\n",
       "    <tr>\n",
       "      <th>james.</th>\n",
       "      <td>5129096</td>\n",
       "      <td>233363</td>\n",
       "      <td>0.007335</td>\n",
       "    </tr>\n",
       "    <tr>\n",
       "      <th>john.</th>\n",
       "      <td>5106590</td>\n",
       "      <td>232543</td>\n",
       "      <td>0.007309</td>\n",
       "    </tr>\n",
       "    <tr>\n",
       "      <th>robert.</th>\n",
       "      <td>4816785</td>\n",
       "      <td>221924</td>\n",
       "      <td>0.006976</td>\n",
       "    </tr>\n",
       "    <tr>\n",
       "      <th>michael.</th>\n",
       "      <td>4330805</td>\n",
       "      <td>203823</td>\n",
       "      <td>0.006407</td>\n",
       "    </tr>\n",
       "    <tr>\n",
       "      <th>mary.</th>\n",
       "      <td>4130441</td>\n",
       "      <td>196244</td>\n",
       "      <td>0.006168</td>\n",
       "    </tr>\n",
       "  </tbody>\n",
       "</table>\n",
       "</div>"
      ],
      "text/plain": [
       "            Count  count_normalized         p\n",
       "Name                                         \n",
       "james.    5129096            233363  0.007335\n",
       "john.     5106590            232543  0.007309\n",
       "robert.   4816785            221924  0.006976\n",
       "michael.  4330805            203823  0.006407\n",
       "mary.     4130441            196244  0.006168"
      ]
     },
     "execution_count": 16,
     "metadata": {},
     "output_type": "execute_result"
    }
   ],
   "source": [
    "names[\"p\"] = names[\"count_normalized\"] / count_normalized_sum\n",
    "names.head()"
   ]
  },
  {
   "cell_type": "code",
   "execution_count": 17,
   "metadata": {},
   "outputs": [
    {
     "name": "stdout",
     "output_type": "stream",
     "text": [
      "100000\n",
      "['joanna.' 'pearlie.' 'harrison.' 'kay.' 'kim.' 'braden.' 'bernard.'\n",
      " 'eugena.' 'essynce.' 'audrey.' 'sharla.' 'oliver.' 'susie.' 'meka.'\n",
      " 'patricia.' 'donald.' 'robert.' 'sheyla.' 'lizeth.' 'tayden.' 'casmira.'\n",
      " 'karmen.' 'dean.' 'danita.' 'ronald.' 'mona.' 'frank.' 'kareemah.'\n",
      " 'mackenzie.' 'thelma.' 'grace.' 'kami.' 'gertrude.' 'misty.' 'robert.'\n",
      " 'horace.' 'gerard.' 'salvatore.' 'iyannah.' 'hillary.' 'edna.' 'holly.'\n",
      " 'simone.' 'thomas.' 'ronda.' 'helena.' 'katherine.' 'helen.' 'madison.'\n",
      " 'dawn.']\n"
     ]
    }
   ],
   "source": [
    "np.random.seed(0)\n",
    "names_list = np.random.choice(names.index, size=10**5, p=names[\"p\"], replace=True)\n",
    "print(len(names_list))\n",
    "print(names_list[:50])"
   ]
  },
  {
   "cell_type": "code",
   "execution_count": 18,
   "metadata": {},
   "outputs": [
    {
     "data": {
      "text/plain": [
       "james.      733\n",
       "john.       724\n",
       "robert.     677\n",
       "michael.    649\n",
       "william.    605\n",
       "           ... \n",
       "kiswana.      1\n",
       "meko.         1\n",
       "letzy.        1\n",
       "dedrick.      1\n",
       "oramae.       1\n",
       "Name: count, Length: 16785, dtype: int64"
      ]
     },
     "execution_count": 18,
     "metadata": {},
     "output_type": "execute_result"
    }
   ],
   "source": [
    "pd.Series(names_list).value_counts()"
   ]
  },
  {
   "cell_type": "code",
   "execution_count": 19,
   "metadata": {},
   "outputs": [],
   "source": [
    "del data, names"
   ]
  },
  {
   "cell_type": "markdown",
   "metadata": {},
   "source": [
    "# 4. Define Utilities"
   ]
  },
  {
   "cell_type": "code",
   "execution_count": 20,
   "metadata": {},
   "outputs": [
    {
     "name": "stdout",
     "output_type": "stream",
     "text": [
      ".abcdefghijklmnopqrstuvwxyz\n",
      "27\n"
     ]
    }
   ],
   "source": [
    "chars = \".\" + string.ascii_lowercase\n",
    "num_chars = len(chars)\n",
    "print(chars)\n",
    "print(num_chars)"
   ]
  },
  {
   "cell_type": "code",
   "execution_count": 21,
   "metadata": {},
   "outputs": [
    {
     "name": "stdout",
     "output_type": "stream",
     "text": [
      "{'.': 0, 'a': 1, 'b': 2, 'c': 3, 'd': 4, 'e': 5, 'f': 6, 'g': 7, 'h': 8, 'i': 9, 'j': 10, 'k': 11, 'l': 12, 'm': 13, 'n': 14, 'o': 15, 'p': 16, 'q': 17, 'r': 18, 's': 19, 't': 20, 'u': 21, 'v': 22, 'w': 23, 'x': 24, 'y': 25, 'z': 26}\n",
      "{0: '.', 1: 'a', 2: 'b', 3: 'c', 4: 'd', 5: 'e', 6: 'f', 7: 'g', 8: 'h', 9: 'i', 10: 'j', 11: 'k', 12: 'l', 13: 'm', 14: 'n', 15: 'o', 16: 'p', 17: 'q', 18: 'r', 19: 's', 20: 't', 21: 'u', 22: 'v', 23: 'w', 24: 'x', 25: 'y', 26: 'z'}\n"
     ]
    }
   ],
   "source": [
    "char_to_id = {c:i for i,c in enumerate(chars)}\n",
    "id_to_char = {v:k for k,v in char_to_id.items()}\n",
    "print(char_to_id)\n",
    "print(id_to_char)"
   ]
  },
  {
   "cell_type": "code",
   "execution_count": 22,
   "metadata": {},
   "outputs": [
    {
     "name": "stdout",
     "output_type": "stream",
     "text": [
      "11\n"
     ]
    }
   ],
   "source": [
    "print(max_length)"
   ]
  },
  {
   "cell_type": "markdown",
   "metadata": {},
   "source": [
    "# 5. Define Dataset"
   ]
  },
  {
   "cell_type": "code",
   "execution_count": 23,
   "metadata": {},
   "outputs": [],
   "source": [
    "class NamesDataset(Dataset):\n",
    "    def __init__(self, names_list):\n",
    "        self.names_list = names_list\n",
    "\n",
    "    def __len__(self):\n",
    "        self.len = len(self.names_list)\n",
    "        return self.len\n",
    "    \n",
    "    def __getitem__(self, idx):\n",
    "        x_str = self.names_list[idx].ljust(max_length, \".\")[:max_length]\n",
    "        y_str = x_str[1:] + \".\"\n",
    "        x = torch.zeros((max_length, num_chars))\n",
    "        y = torch.zeros(max_length)\n",
    "        for i, c in enumerate(x_str):\n",
    "            x[i, char_to_id[c]] = 1\n",
    "        for i, c in enumerate(y_str):\n",
    "            y[i] = char_to_id[c]\n",
    "        return x,y\n",
    "                        "
   ]
  },
  {
   "cell_type": "code",
   "execution_count": 24,
   "metadata": {},
   "outputs": [],
   "source": [
    "trainset = NamesDataset(names_list)"
   ]
  },
  {
   "cell_type": "markdown",
   "metadata": {},
   "source": [
    "# 6. Define DataLoader"
   ]
  },
  {
   "cell_type": "code",
   "execution_count": 25,
   "metadata": {},
   "outputs": [],
   "source": [
    "train_batch_size = 256"
   ]
  },
  {
   "cell_type": "code",
   "execution_count": 26,
   "metadata": {},
   "outputs": [
    {
     "name": "stdout",
     "output_type": "stream",
     "text": [
      "8\n"
     ]
    }
   ],
   "source": [
    "cpu_count = os.cpu_count()\n",
    "print(cpu_count)"
   ]
  },
  {
   "cell_type": "code",
   "execution_count": 27,
   "metadata": {},
   "outputs": [
    {
     "name": "stdout",
     "output_type": "stream",
     "text": [
      "391\n"
     ]
    }
   ],
   "source": [
    "train_loader = DataLoader(trainset, batch_size=train_batch_size, shuffle=True, num_workers=0)\n",
    "print(len(train_loader))"
   ]
  },
  {
   "cell_type": "code",
   "execution_count": 28,
   "metadata": {},
   "outputs": [
    {
     "name": "stdout",
     "output_type": "stream",
     "text": [
      "torch.Size([256, 11, 27]) torch.Size([256, 11])\n"
     ]
    }
   ],
   "source": [
    "train_iter = iter(train_loader)\n",
    "X, Y = train_iter.__next__()\n",
    "print(X.size(), Y.size())"
   ]
  },
  {
   "cell_type": "markdown",
   "metadata": {},
   "source": [
    "# 7. Define Model"
   ]
  },
  {
   "cell_type": "code",
   "execution_count": 29,
   "metadata": {},
   "outputs": [],
   "source": [
    "input_size = num_chars\n",
    "hidden_size = 54\n",
    "output_size = num_chars\n",
    "num_layers = 1"
   ]
  },
  {
   "cell_type": "code",
   "execution_count": 30,
   "metadata": {},
   "outputs": [],
   "source": [
    "device = \"cuda:0\" if torch.cuda.is_available() else \"cpu\"\n",
    "device = torch.device(device)"
   ]
  },
  {
   "cell_type": "code",
   "execution_count": 31,
   "metadata": {},
   "outputs": [],
   "source": [
    "class Model(nn.Module):\n",
    "    def __init__(self, input_size, hidden_size, output_size, num_layers):\n",
    "        super(Model, self).__init__()\n",
    "        self.input_size = input_size\n",
    "        self.hidden_size = hidden_size\n",
    "        self.num_layers = num_layers\n",
    "        self.lstm1 = nn.LSTM(input_size=input_size, hidden_size=hidden_size, num_layers=num_layers, batch_first=True)\n",
    "        self.fc2 = nn.Linear(hidden_size, output_size)\n",
    "        self.fc3 = nn.Linear(output_size, output_size)\n",
    "\n",
    "    def forward(self, X, states):\n",
    "        ht, ct = states\n",
    "        batch_size = X.size(0)\n",
    "        out, (ht, ct) = self.lstm1(X, (ht, ct))\n",
    "        out = F.relu(self.fc2(out))\n",
    "        out = self.fc3(out)\n",
    "        return out, (ht, ct)"
   ]
  },
  {
   "cell_type": "code",
   "execution_count": 32,
   "metadata": {},
   "outputs": [],
   "source": [
    "model = Model(input_size=input_size, hidden_size=hidden_size, output_size=output_size, num_layers=num_layers)\n",
    "model = nn.DataParallel(model)\n",
    "model = model.to(device)"
   ]
  },
  {
   "cell_type": "code",
   "execution_count": 33,
   "metadata": {},
   "outputs": [],
   "source": [
    "ht = torch.zeros((num_layers, train_batch_size, hidden_size)).to(device)\n",
    "ct = torch.zeros((num_layers, train_batch_size, hidden_size)).to(device)\n",
    "writer.add_graph(model, (X, (ht, ct)))\n",
    "writer.close()"
   ]
  },
  {
   "cell_type": "markdown",
   "metadata": {},
   "source": [
    "# 8. Set Optimizer"
   ]
  },
  {
   "cell_type": "code",
   "execution_count": 34,
   "metadata": {},
   "outputs": [
    {
     "name": "stdout",
     "output_type": "stream",
     "text": [
      "391\n"
     ]
    }
   ],
   "source": [
    "lr = 0.005\n",
    "step_size = len(train_loader) * 1\n",
    "gamma = 0.95\n",
    "print(step_size)"
   ]
  },
  {
   "cell_type": "code",
   "execution_count": 35,
   "metadata": {},
   "outputs": [],
   "source": [
    "criterion = nn.CrossEntropyLoss(reduction=\"mean\")\n",
    "optimizer = optim.Adam(model.parameters(), lr=lr)\n",
    "lr_scheduler = optim.lr_scheduler.StepLR(optimizer=optimizer, step_size=step_size, gamma=gamma)"
   ]
  },
  {
   "cell_type": "markdown",
   "metadata": {},
   "source": [
    "# 9. Define Sampler"
   ]
  },
  {
   "cell_type": "code",
   "execution_count": 36,
   "metadata": {},
   "outputs": [],
   "source": [
    "def generate_name(model, start='a', k=5):\n",
    "    \n",
    "    if len(start) >= max_length:\n",
    "        return name\n",
    "\n",
    "    with torch.no_grad():\n",
    "        ht = torch.zeros((num_layers, 1, hidden_size)).to(device)\n",
    "        ct = torch.zeros((num_layers, 1, hidden_size)).to(device)\n",
    "        length = 0 \n",
    "        name = start\n",
    "\n",
    "        for char in start:\n",
    "            X = torch.zeros((1, 1, num_chars))\n",
    "            X[0, 0, char_to_id[char]] = 1\n",
    "            out, (ht, ct) = model(X, (ht, ct))\n",
    "            length += 1\n",
    "\n",
    "        vals, idxs = torch.topk(out[0], k)\n",
    "        idx = np.random.choice(idxs.cpu().numpy()[0])\n",
    "        char = id_to_char[idx]\n",
    "        vals, idxs = torch.topk(out[0], k)\n",
    "        idx = np.random.choice(idxs.cpu().numpy()[0])\n",
    "        char = id_to_char[idx]\n",
    "\n",
    "        while char != \".\" and length <= max_length-1:\n",
    "            X = torch.zeros((1, 1, num_chars))\n",
    "            X[0, 0, char_to_id[char]] = 1\n",
    "            out, (ht, ct) = model(X, (ht, ct))\n",
    "            vals, idxs = torch.topk(out[0], k)\n",
    "            idx = np.random.choice(idxs.cpu().numpy()[0])\n",
    "            char = id_to_char[idx]\n",
    "            length += 1 \n",
    "            name += char\n",
    "        \n",
    "        if name[-1] != \".\":\n",
    "            name += \".\"\n",
    "\n",
    "    return name"
   ]
  },
  {
   "cell_type": "code",
   "execution_count": 37,
   "metadata": {},
   "outputs": [],
   "source": [
    "def sampler(model, start='a', n=10, k=5, only_new=False):\n",
    "\n",
    "    names = []\n",
    "    cnt = 0\n",
    "    while cnt <= n:\n",
    "        name = generate_name(model=model, start=start, k=k)\n",
    "        if only_new:\n",
    "            if name not in names_list and name not in names:\n",
    "                names.append(name)\n",
    "                cnt += 1\n",
    "        else:\n",
    "            if name not in names:\n",
    "                names.append(name)\n",
    "                cnt += 1\n",
    "    names = [name[:-1].title() for name in names]\n",
    "\n",
    "    return names "
   ]
  },
  {
   "cell_type": "markdown",
   "metadata": {},
   "source": [
    "# 10. Train Model "
   ]
  },
  {
   "cell_type": "code",
   "execution_count": 38,
   "metadata": {},
   "outputs": [],
   "source": [
    "epochs = 50 \n",
    "print_every_n_epochs = epochs // 10"
   ]
  },
  {
   "cell_type": "code",
   "execution_count": 40,
   "metadata": {},
   "outputs": [
    {
     "data": {
      "application/vnd.jupyter.widget-view+json": {
       "model_id": "8394d8b3850e4cc394a195a6502d27c7",
       "version_major": 2,
       "version_minor": 0
      },
      "text/plain": [
       "Epochs:   0%|          | 0/50 [00:00<?, ?it/s]"
      ]
     },
     "metadata": {},
     "output_type": "display_data"
    },
    {
     "data": {
      "application/vnd.jupyter.widget-view+json": {
       "model_id": "c32adb0b046f4f3f9e42356f7414731b",
       "version_major": 2,
       "version_minor": 0
      },
      "text/plain": [
       "Epoch-1:   0%|          | 0/391 [00:00<?, ?it/s]"
      ]
     },
     "metadata": {},
     "output_type": "display_data"
    },
    {
     "name": "stderr",
     "output_type": "stream",
     "text": [
      "c:\\Users\\User\\anaconda3\\envs\\Dekalog\\Lib\\site-packages\\torch\\optim\\lr_scheduler.py:402: UserWarning: To get the last learning rate computed by the scheduler, please use `get_last_lr()`.\n",
      "  warnings.warn(\"To get the last learning rate computed by the scheduler, \"\n"
     ]
    },
    {
     "data": {
      "application/vnd.jupyter.widget-view+json": {
       "model_id": "6fcc67b8b00348ed894a98730a2b38ac",
       "version_major": 2,
       "version_minor": 0
      },
      "text/plain": [
       "Epoch-2:   0%|          | 0/391 [00:00<?, ?it/s]"
      ]
     },
     "metadata": {},
     "output_type": "display_data"
    },
    {
     "data": {
      "application/vnd.jupyter.widget-view+json": {
       "model_id": "2e04aa7061594ed1b195813634d00590",
       "version_major": 2,
       "version_minor": 0
      },
      "text/plain": [
       "Epoch-3:   0%|          | 0/391 [00:00<?, ?it/s]"
      ]
     },
     "metadata": {},
     "output_type": "display_data"
    },
    {
     "data": {
      "application/vnd.jupyter.widget-view+json": {
       "model_id": "ed9716b82e324d4c93505ab5eb9159bd",
       "version_major": 2,
       "version_minor": 0
      },
      "text/plain": [
       "Epoch-4:   0%|          | 0/391 [00:00<?, ?it/s]"
      ]
     },
     "metadata": {},
     "output_type": "display_data"
    },
    {
     "data": {
      "application/vnd.jupyter.widget-view+json": {
       "model_id": "eba6a5b90d904fa7af631b094041ef08",
       "version_major": 2,
       "version_minor": 0
      },
      "text/plain": [
       "Epoch-5:   0%|          | 0/391 [00:00<?, ?it/s]"
      ]
     },
     "metadata": {},
     "output_type": "display_data"
    },
    {
     "name": "stdout",
     "output_type": "stream",
     "text": [
      "Epoch:5     Loss:0.7219701387998089       LR:0.004071515721107749\n",
      "['Jofyll', 'Joakae', 'Jomoueantha', 'Joo', 'Jodonewoldo', 'Jonalovioua', 'Jolewarnyoa', 'Joophanonia', 'Jomu', 'Joovisysey', 'Jogytiun']\n"
     ]
    },
    {
     "data": {
      "application/vnd.jupyter.widget-view+json": {
       "model_id": "f1f0a7f4ad4c4005a31d6d477f85796d",
       "version_major": 2,
       "version_minor": 0
      },
      "text/plain": [
       "Epoch-6:   0%|          | 0/391 [00:00<?, ?it/s]"
      ]
     },
     "metadata": {},
     "output_type": "display_data"
    },
    {
     "data": {
      "application/vnd.jupyter.widget-view+json": {
       "model_id": "4b6fde4cd75e483bbdb280ee5ddc592c",
       "version_major": 2,
       "version_minor": 0
      },
      "text/plain": [
       "Epoch-7:   0%|          | 0/391 [00:00<?, ?it/s]"
      ]
     },
     "metadata": {},
     "output_type": "display_data"
    },
    {
     "data": {
      "application/vnd.jupyter.widget-view+json": {
       "model_id": "f412ac95533045b2a692580daf2e1b51",
       "version_major": 2,
       "version_minor": 0
      },
      "text/plain": [
       "Epoch-8:   0%|          | 0/391 [00:00<?, ?it/s]"
      ]
     },
     "metadata": {},
     "output_type": "display_data"
    },
    {
     "data": {
      "application/vnd.jupyter.widget-view+json": {
       "model_id": "95de9b75dd3e4109bbfc039dc895e49e",
       "version_major": 2,
       "version_minor": 0
      },
      "text/plain": [
       "Epoch-9:   0%|          | 0/391 [00:00<?, ?it/s]"
      ]
     },
     "metadata": {},
     "output_type": "display_data"
    },
    {
     "data": {
      "application/vnd.jupyter.widget-view+json": {
       "model_id": "b5aedcab8b5d45e9b4a5ac6839d8b3bf",
       "version_major": 2,
       "version_minor": 0
      },
      "text/plain": [
       "Epoch-10:   0%|          | 0/391 [00:00<?, ?it/s]"
      ]
     },
     "metadata": {},
     "output_type": "display_data"
    },
    {
     "name": "stdout",
     "output_type": "stream",
     "text": [
      "Epoch:10     Loss:0.6531286177122989       LR:0.00315046125172471\n",
      "['Jo', 'Joelzioovil', 'Jouf', 'Joduaphiapi', 'Joat', 'Jonold', 'Jomuseciots', 'Joaloreszyo', 'Jom', 'Joyappo', 'Johladey']\n"
     ]
    },
    {
     "data": {
      "application/vnd.jupyter.widget-view+json": {
       "model_id": "05e0269a537244a5b4e7fb8df164d273",
       "version_major": 2,
       "version_minor": 0
      },
      "text/plain": [
       "Epoch-11:   0%|          | 0/391 [00:00<?, ?it/s]"
      ]
     },
     "metadata": {},
     "output_type": "display_data"
    },
    {
     "data": {
      "application/vnd.jupyter.widget-view+json": {
       "model_id": "81af81cdc3bc4838bf2f955089f7e464",
       "version_major": 2,
       "version_minor": 0
      },
      "text/plain": [
       "Epoch-12:   0%|          | 0/391 [00:00<?, ?it/s]"
      ]
     },
     "metadata": {},
     "output_type": "display_data"
    },
    {
     "data": {
      "application/vnd.jupyter.widget-view+json": {
       "model_id": "4244409876444caeb73707403b4f977c",
       "version_major": 2,
       "version_minor": 0
      },
      "text/plain": [
       "Epoch-13:   0%|          | 0/391 [00:00<?, ?it/s]"
      ]
     },
     "metadata": {},
     "output_type": "display_data"
    },
    {
     "data": {
      "application/vnd.jupyter.widget-view+json": {
       "model_id": "8a9952cf3e7e4d21b72bd0cee677a2da",
       "version_major": 2,
       "version_minor": 0
      },
      "text/plain": [
       "Epoch-14:   0%|          | 0/391 [00:00<?, ?it/s]"
      ]
     },
     "metadata": {},
     "output_type": "display_data"
    },
    {
     "data": {
      "application/vnd.jupyter.widget-view+json": {
       "model_id": "1136b842f98948538363d97b55534088",
       "version_major": 2,
       "version_minor": 0
      },
      "text/plain": [
       "Epoch-15:   0%|          | 0/391 [00:00<?, ?it/s]"
      ]
     },
     "metadata": {},
     "output_type": "display_data"
    },
    {
     "name": "stdout",
     "output_type": "stream",
     "text": [
      "Epoch:15     Loss:0.6314073436705353       LR:0.0024377668609169767\n",
      "['Jorsus', 'Joicpseiga', 'Jonynnsietn', 'Joyape', 'Jodielosaur', 'Joifheuhtez', 'Joll', 'Joiyesenty', 'Jo', 'Jomikoohies', 'Jonc']\n"
     ]
    },
    {
     "data": {
      "application/vnd.jupyter.widget-view+json": {
       "model_id": "5836814352904174bb3ef95ca8fc9391",
       "version_major": 2,
       "version_minor": 0
      },
      "text/plain": [
       "Epoch-16:   0%|          | 0/391 [00:00<?, ?it/s]"
      ]
     },
     "metadata": {},
     "output_type": "display_data"
    },
    {
     "data": {
      "application/vnd.jupyter.widget-view+json": {
       "model_id": "edbeef845a824d8b84de6d2691d3b6e1",
       "version_major": 2,
       "version_minor": 0
      },
      "text/plain": [
       "Epoch-17:   0%|          | 0/391 [00:00<?, ?it/s]"
      ]
     },
     "metadata": {},
     "output_type": "display_data"
    },
    {
     "data": {
      "application/vnd.jupyter.widget-view+json": {
       "model_id": "308206d76f4a4f1da1f5f155c798ddff",
       "version_major": 2,
       "version_minor": 0
      },
      "text/plain": [
       "Epoch-18:   0%|          | 0/391 [00:00<?, ?it/s]"
      ]
     },
     "metadata": {},
     "output_type": "display_data"
    },
    {
     "data": {
      "application/vnd.jupyter.widget-view+json": {
       "model_id": "08643be5c3814eb99859fb29be2ba0bd",
       "version_major": 2,
       "version_minor": 0
      },
      "text/plain": [
       "Epoch-19:   0%|          | 0/391 [00:00<?, ?it/s]"
      ]
     },
     "metadata": {},
     "output_type": "display_data"
    },
    {
     "data": {
      "application/vnd.jupyter.widget-view+json": {
       "model_id": "65e68ee8540d41cda6c65ea71ed837ba",
       "version_major": 2,
       "version_minor": 0
      },
      "text/plain": [
       "Epoch-20:   0%|          | 0/391 [00:00<?, ?it/s]"
      ]
     },
     "metadata": {},
     "output_type": "display_data"
    },
    {
     "name": "stdout",
     "output_type": "stream",
     "text": [
      "Epoch:20     Loss:0.6201716342850414       LR:0.0018862975270467594\n",
      "['Jomool', 'Jozo', 'Jorlp', 'Joanni', 'Jodoxshessa', 'Jotourwyziu', 'Jodf', 'Jomtylmow', 'Joueon', 'Joguemsione', 'Jouesseelvy']\n"
     ]
    },
    {
     "data": {
      "application/vnd.jupyter.widget-view+json": {
       "model_id": "068aef11ddf3487db7d7e06d83abf039",
       "version_major": 2,
       "version_minor": 0
      },
      "text/plain": [
       "Epoch-21:   0%|          | 0/391 [00:00<?, ?it/s]"
      ]
     },
     "metadata": {},
     "output_type": "display_data"
    },
    {
     "data": {
      "application/vnd.jupyter.widget-view+json": {
       "model_id": "6f51840ee81c4d8b81b3efcbbc0c8243",
       "version_major": 2,
       "version_minor": 0
      },
      "text/plain": [
       "Epoch-22:   0%|          | 0/391 [00:00<?, ?it/s]"
      ]
     },
     "metadata": {},
     "output_type": "display_data"
    },
    {
     "data": {
      "application/vnd.jupyter.widget-view+json": {
       "model_id": "43439173d71f43559bb2f95b1ec97e80",
       "version_major": 2,
       "version_minor": 0
      },
      "text/plain": [
       "Epoch-23:   0%|          | 0/391 [00:00<?, ?it/s]"
      ]
     },
     "metadata": {},
     "output_type": "display_data"
    },
    {
     "data": {
      "application/vnd.jupyter.widget-view+json": {
       "model_id": "2c0bd57f39094c5ea5e2152b419245b9",
       "version_major": 2,
       "version_minor": 0
      },
      "text/plain": [
       "Epoch-24:   0%|          | 0/391 [00:00<?, ?it/s]"
      ]
     },
     "metadata": {},
     "output_type": "display_data"
    },
    {
     "data": {
      "application/vnd.jupyter.widget-view+json": {
       "model_id": "96083de6aeff4b74b5a28add8c85769d",
       "version_major": 2,
       "version_minor": 0
      },
      "text/plain": [
       "Epoch-25:   0%|          | 0/391 [00:00<?, ?it/s]"
      ]
     },
     "metadata": {},
     "output_type": "display_data"
    },
    {
     "name": "stdout",
     "output_type": "stream",
     "text": [
      "Epoch:25     Loss:0.6130932834752075       LR:0.0014595810688821825\n",
      "['Jozslakkoy', 'Joztose', 'Joatsouhesm', 'Jov', 'Jodyhpe', 'Jobrr', 'Joahlaophob', 'Jo', 'Jomoaleeelm', 'Jomaanisahk', 'Jodinseeyaw']\n"
     ]
    },
    {
     "data": {
      "application/vnd.jupyter.widget-view+json": {
       "model_id": "72b520d49fd34307ab993cbfa4801d97",
       "version_major": 2,
       "version_minor": 0
      },
      "text/plain": [
       "Epoch-26:   0%|          | 0/391 [00:00<?, ?it/s]"
      ]
     },
     "metadata": {},
     "output_type": "display_data"
    },
    {
     "data": {
      "application/vnd.jupyter.widget-view+json": {
       "model_id": "6e3e00482de94d5c983816512da89858",
       "version_major": 2,
       "version_minor": 0
      },
      "text/plain": [
       "Epoch-27:   0%|          | 0/391 [00:00<?, ?it/s]"
      ]
     },
     "metadata": {},
     "output_type": "display_data"
    },
    {
     "data": {
      "application/vnd.jupyter.widget-view+json": {
       "model_id": "ed63ba226a6d4061b192a01b24ad5d94",
       "version_major": 2,
       "version_minor": 0
      },
      "text/plain": [
       "Epoch-28:   0%|          | 0/391 [00:00<?, ?it/s]"
      ]
     },
     "metadata": {},
     "output_type": "display_data"
    },
    {
     "data": {
      "application/vnd.jupyter.widget-view+json": {
       "model_id": "e3bf65eac1214f839885bbca51ce7930",
       "version_major": 2,
       "version_minor": 0
      },
      "text/plain": [
       "Epoch-29:   0%|          | 0/391 [00:00<?, ?it/s]"
      ]
     },
     "metadata": {},
     "output_type": "display_data"
    },
    {
     "data": {
      "application/vnd.jupyter.widget-view+json": {
       "model_id": "9ccccc0a70754b678cd0c7cefac31a59",
       "version_major": 2,
       "version_minor": 0
      },
      "text/plain": [
       "Epoch-30:   0%|          | 0/391 [00:00<?, ?it/s]"
      ]
     },
     "metadata": {},
     "output_type": "display_data"
    },
    {
     "name": "stdout",
     "output_type": "stream",
     "text": [
      "Epoch:30     Loss:0.6083635160380312       LR:0.001129396007836903\n",
      "['Josetsisiel', 'Jomho', 'Jo', 'Joppai', 'Joduspuz', 'Jodrifferny', 'Jodetowyiea', 'Jody', 'Jotp', 'Jochayrrri', 'Jouam']\n"
     ]
    },
    {
     "data": {
      "application/vnd.jupyter.widget-view+json": {
       "model_id": "968694a28cce434fbdc79c8ed9f43445",
       "version_major": 2,
       "version_minor": 0
      },
      "text/plain": [
       "Epoch-31:   0%|          | 0/391 [00:00<?, ?it/s]"
      ]
     },
     "metadata": {},
     "output_type": "display_data"
    },
    {
     "data": {
      "application/vnd.jupyter.widget-view+json": {
       "model_id": "6617330019fc4613a4b8d5534caa9093",
       "version_major": 2,
       "version_minor": 0
      },
      "text/plain": [
       "Epoch-32:   0%|          | 0/391 [00:00<?, ?it/s]"
      ]
     },
     "metadata": {},
     "output_type": "display_data"
    },
    {
     "data": {
      "application/vnd.jupyter.widget-view+json": {
       "model_id": "96d6a21e3dfd4b86a0e3a07b08dc8e4f",
       "version_major": 2,
       "version_minor": 0
      },
      "text/plain": [
       "Epoch-33:   0%|          | 0/391 [00:00<?, ?it/s]"
      ]
     },
     "metadata": {},
     "output_type": "display_data"
    },
    {
     "data": {
      "application/vnd.jupyter.widget-view+json": {
       "model_id": "226d8fc3b9c243c78abb7d04d90112a4",
       "version_major": 2,
       "version_minor": 0
      },
      "text/plain": [
       "Epoch-34:   0%|          | 0/391 [00:00<?, ?it/s]"
      ]
     },
     "metadata": {},
     "output_type": "display_data"
    },
    {
     "data": {
      "application/vnd.jupyter.widget-view+json": {
       "model_id": "35dcbc7e4f7c4310a072db667e830be9",
       "version_major": 2,
       "version_minor": 0
      },
      "text/plain": [
       "Epoch-35:   0%|          | 0/391 [00:00<?, ?it/s]"
      ]
     },
     "metadata": {},
     "output_type": "display_data"
    },
    {
     "name": "stdout",
     "output_type": "stream",
     "text": [
      "Epoch:35     Loss:0.6048577219019156       LR:0.0008739051017528039\n",
      "['Jouesigldul', 'Joaulosyal', 'Jozulzicaug', 'Jo', 'Jowads', 'Jodifofdlua', 'Jousawaaubu', 'Josllllishy', 'Joesussh', 'Jonordsulyv', 'Jonclasa']\n"
     ]
    },
    {
     "data": {
      "application/vnd.jupyter.widget-view+json": {
       "model_id": "e49f083655a1453e9e6fd5050c795036",
       "version_major": 2,
       "version_minor": 0
      },
      "text/plain": [
       "Epoch-36:   0%|          | 0/391 [00:00<?, ?it/s]"
      ]
     },
     "metadata": {},
     "output_type": "display_data"
    },
    {
     "data": {
      "application/vnd.jupyter.widget-view+json": {
       "model_id": "4aa51aa8b6544e0394c034dd5cb1b780",
       "version_major": 2,
       "version_minor": 0
      },
      "text/plain": [
       "Epoch-37:   0%|          | 0/391 [00:00<?, ?it/s]"
      ]
     },
     "metadata": {},
     "output_type": "display_data"
    },
    {
     "data": {
      "application/vnd.jupyter.widget-view+json": {
       "model_id": "38307ef4903e47d389a4276c8f61d247",
       "version_major": 2,
       "version_minor": 0
      },
      "text/plain": [
       "Epoch-38:   0%|          | 0/391 [00:00<?, ?it/s]"
      ]
     },
     "metadata": {},
     "output_type": "display_data"
    },
    {
     "data": {
      "application/vnd.jupyter.widget-view+json": {
       "model_id": "5a912b3e251b45b6b7548fea0f00ddd4",
       "version_major": 2,
       "version_minor": 0
      },
      "text/plain": [
       "Epoch-39:   0%|          | 0/391 [00:00<?, ?it/s]"
      ]
     },
     "metadata": {},
     "output_type": "display_data"
    },
    {
     "data": {
      "application/vnd.jupyter.widget-view+json": {
       "model_id": "cdc9e2f76e4d4be0aa56f56ebfff748b",
       "version_major": 2,
       "version_minor": 0
      },
      "text/plain": [
       "Epoch-40:   0%|          | 0/391 [00:00<?, ?it/s]"
      ]
     },
     "metadata": {},
     "output_type": "display_data"
    },
    {
     "name": "stdout",
     "output_type": "stream",
     "text": [
      "Epoch:40     Loss:0.6023738593091745       LR:0.0006762111089203196\n",
      "['Jo', 'Josunlyving', 'Jodwernicko', 'Jodouso', 'Joahlie', 'Jovhuasehkh', 'Joezolmahkl', 'Jogetasoyth', 'Jodbbonachh', 'Jounsa', 'Joettioulos']\n"
     ]
    },
    {
     "data": {
      "application/vnd.jupyter.widget-view+json": {
       "model_id": "93f843ce2e844830854e5a72280ee304",
       "version_major": 2,
       "version_minor": 0
      },
      "text/plain": [
       "Epoch-41:   0%|          | 0/391 [00:00<?, ?it/s]"
      ]
     },
     "metadata": {},
     "output_type": "display_data"
    },
    {
     "data": {
      "application/vnd.jupyter.widget-view+json": {
       "model_id": "7292b6f3697b485fb21f47a0fb7bfd12",
       "version_major": 2,
       "version_minor": 0
      },
      "text/plain": [
       "Epoch-42:   0%|          | 0/391 [00:00<?, ?it/s]"
      ]
     },
     "metadata": {},
     "output_type": "display_data"
    },
    {
     "data": {
      "application/vnd.jupyter.widget-view+json": {
       "model_id": "131e13edc33d460e91da183328bd1ece",
       "version_major": 2,
       "version_minor": 0
      },
      "text/plain": [
       "Epoch-43:   0%|          | 0/391 [00:00<?, ?it/s]"
      ]
     },
     "metadata": {},
     "output_type": "display_data"
    },
    {
     "data": {
      "application/vnd.jupyter.widget-view+json": {
       "model_id": "83656dd1641b4de3ba6ad2cf99d85c49",
       "version_major": 2,
       "version_minor": 0
      },
      "text/plain": [
       "Epoch-44:   0%|          | 0/391 [00:00<?, ?it/s]"
      ]
     },
     "metadata": {},
     "output_type": "display_data"
    },
    {
     "data": {
      "application/vnd.jupyter.widget-view+json": {
       "model_id": "2b1ed9fea7574cf083081fdf515e16be",
       "version_major": 2,
       "version_minor": 0
      },
      "text/plain": [
       "Epoch-45:   0%|          | 0/391 [00:00<?, ?it/s]"
      ]
     },
     "metadata": {},
     "output_type": "display_data"
    },
    {
     "name": "stdout",
     "output_type": "stream",
     "text": [
      "Epoch:45     Loss:0.6004751690513338       LR:0.0005232392658082784\n",
      "['Jo', 'Jopum', 'Jonespwynom', 'Jovilovapel', 'Jocionck', 'Joi', 'Joynesyoyus', 'Jotu', 'Jovunoyzhau', 'Joorlaa', 'Joiahellosy']\n"
     ]
    },
    {
     "data": {
      "application/vnd.jupyter.widget-view+json": {
       "model_id": "a071f62463bb425aa1e91a5e509d8e8d",
       "version_major": 2,
       "version_minor": 0
      },
      "text/plain": [
       "Epoch-46:   0%|          | 0/391 [00:00<?, ?it/s]"
      ]
     },
     "metadata": {},
     "output_type": "display_data"
    },
    {
     "data": {
      "application/vnd.jupyter.widget-view+json": {
       "model_id": "4aacf0785cfd4bb8b0413968dee43432",
       "version_major": 2,
       "version_minor": 0
      },
      "text/plain": [
       "Epoch-47:   0%|          | 0/391 [00:00<?, ?it/s]"
      ]
     },
     "metadata": {},
     "output_type": "display_data"
    },
    {
     "data": {
      "application/vnd.jupyter.widget-view+json": {
       "model_id": "48339c8cd65a4573bca4d9e380fc7cdc",
       "version_major": 2,
       "version_minor": 0
      },
      "text/plain": [
       "Epoch-48:   0%|          | 0/391 [00:00<?, ?it/s]"
      ]
     },
     "metadata": {},
     "output_type": "display_data"
    },
    {
     "data": {
      "application/vnd.jupyter.widget-view+json": {
       "model_id": "303f8cf1281e4583838cb9919cb00f1c",
       "version_major": 2,
       "version_minor": 0
      },
      "text/plain": [
       "Epoch-49:   0%|          | 0/391 [00:00<?, ?it/s]"
      ]
     },
     "metadata": {},
     "output_type": "display_data"
    },
    {
     "data": {
      "application/vnd.jupyter.widget-view+json": {
       "model_id": "0e3b704b18ff4e2aa052265042e7fc35",
       "version_major": 2,
       "version_minor": 0
      },
      "text/plain": [
       "Epoch-50:   0%|          | 0/391 [00:00<?, ?it/s]"
      ]
     },
     "metadata": {},
     "output_type": "display_data"
    },
    {
     "name": "stdout",
     "output_type": "stream",
     "text": [
      "Epoch:50     Loss:0.5989174824541487       LR:0.0004048725696339396\n",
      "['Jouugl', 'Joksylehala', 'Jonsuklmndr', 'Joepiriruru', 'Jomahllyowh', 'Joiylawstwi', 'Joeemhra', 'Jol', 'Jonaedahwwy', 'Jomi', 'Jorldinyl']\n"
     ]
    }
   ],
   "source": [
    "epoch_losses = []\n",
    "epoch_lrs = []\n",
    "iteration_losses = []\n",
    "iteration_lrs = []\n",
    "\n",
    "for epoch in tqdm(range(1, epochs+1), desc=\"Epochs\"):\n",
    "    epoch_loss = 0\n",
    "    epoch_lr = 0\n",
    "\n",
    "    for i, (X,Y) in tqdm(enumerate(train_loader, 1), total=len(train_loader), desc=f\"Epoch-{epoch}\"):\n",
    "        X,Y = X.to(device), Y.to(device)\n",
    "        ht = torch.zeros((num_layers, X.size(0), hidden_size)).to(device)\n",
    "        ct = torch.zeros((num_layers, X.size(0), hidden_size)).to(device)\n",
    "\n",
    "        optimizer.zero_grad()\n",
    "        Y_pred_logits, (ht,ct) = model(X, (ht,ct))\n",
    "        Y_pred_logits = Y_pred_logits.transpose(1, 2)\n",
    "        loss = criterion(Y_pred_logits, Y.long())\n",
    "        loss.backward(retain_graph=True)\n",
    "        optimizer.step()\n",
    "        lr_scheduler.step()\n",
    "\n",
    "        iteration_losses.append(loss.item())\n",
    "        iteration_lrs.append(lr_scheduler.get_lr()[0])\n",
    "        epoch_loss += loss.item()\n",
    "        epoch_lr += lr_scheduler.get_lr()[0]\n",
    "\n",
    "    epoch_loss /= len(train_loader)\n",
    "    epoch_lr /= len(train_loader)\n",
    "    epoch_losses.append(epoch_loss)\n",
    "    epoch_lrs.append(epoch_lr)\n",
    "\n",
    "    if epoch % print_every_n_epochs == 0:\n",
    "        message = f\"Epoch:{epoch}     Loss:{epoch_loss}       LR:{epoch_lr}\"\n",
    "        print(message) \n",
    "        names = sampler(model=model, start='jo', n=10, k=10, only_new=False)\n",
    "        print(names)"
   ]
  },
  {
   "cell_type": "code",
   "execution_count": 41,
   "metadata": {},
   "outputs": [
    {
     "data": {
      "image/png": "[encoded data removed]",
      "text/plain": [
       "<Figure size 1500x800 with 2 Axes>"
      ]
     },
     "metadata": {},
     "output_type": "display_data"
    }
   ],
   "source": [
    "fig, (ax1,ax2) = plt.subplots(2,1, sharex=True, figsize=(15,8))\n",
    "ax1.plot(epoch_losses, marker=\"o\", markersize=5)\n",
    "ax1.set_title(\"Loss\")\n",
    "ax2.plot(epoch_lrs, marker=\"o\", markersize=5)\n",
    "ax2.set_title(\"LR\")\n",
    "plt.xlabel(\"Epochs\")\n",
    "plt.show()"
   ]
  },
  {
   "cell_type": "code",
   "execution_count": 42,
   "metadata": {},
   "outputs": [
    {
     "data": {
      "image/png": "[encoded data removed]",
      "text/plain": [
       "<Figure size 1500x800 with 2 Axes>"
      ]
     },
     "metadata": {},
     "output_type": "display_data"
    }
   ],
   "source": [
    "fig, (ax1, ax2) = plt.subplots(2,1,sharex=True,figsize=(15,8))\n",
    "ax1.plot(iteration_losses[::]) \n",
    "ax1.set_title(\"Loss\")\n",
    "ax2.plot(iteration_lrs[::])\n",
    "ax2.set_title(\"LR\")\n",
    "plt.xlabel(\"Iterations\")\n",
    "plt.show()"
   ]
  },
  {
   "cell_type": "code",
   "execution_count": 43,
   "metadata": {},
   "outputs": [
    {
     "data": {
      "image/png": "[encoded data removed]",
      "text/plain": [
       "<Figure size 1500x400 with 1 Axes>"
      ]
     },
     "metadata": {},
     "output_type": "display_data"
    }
   ],
   "source": [
    "window = 100\n",
    "plt.figure(figsize=(15,4))\n",
    "pd.Series(iteration_losses).rolling(window=window).mean().iloc[window-1:].plot()\n",
    "plt.show()"
   ]
  },
  {
   "cell_type": "code",
   "execution_count": 44,
   "metadata": {},
   "outputs": [],
   "source": [
    "path = os.path.join(\"storage\", \"models\", \"baby-names\", \"classifier.pth\")\n",
    "torch.save(model.state_dict(), path)"
   ]
  },
  {
   "cell_type": "markdown",
   "metadata": {},
   "source": [
    "# 11. Generate Baby Names"
   ]
  },
  {
   "cell_type": "code",
   "execution_count": 45,
   "metadata": {},
   "outputs": [
    {
     "data": {
      "text/plain": [
       "<All keys matched successfully>"
      ]
     },
     "execution_count": 45,
     "metadata": {},
     "output_type": "execute_result"
    }
   ],
   "source": [
    "path = os.path.join(\"storage\", \"models\", \"baby-names\", \"classifier.pth\")\n",
    "model = Model(input_size=input_size, hidden_size=hidden_size, output_size=output_size, num_layers=num_layers)\n",
    "model = nn.DataParallel(model)\n",
    "model.load_state_dict(torch.load(path))"
   ]
  },
  {
   "cell_type": "code",
   "execution_count": 46,
   "metadata": {},
   "outputs": [
    {
     "name": "stdout",
     "output_type": "stream",
     "text": [
      "['Indi', 'Indimueliee', 'Indil', 'Indiiausahh', 'Indilaare', 'Indihamanh', 'Indiellaw', 'Indimou', 'Indihhm', 'Indinohtawn', 'Indih']\n"
     ]
    }
   ],
   "source": [
    "names = sampler(model=model, start=\"indi\", n=10, k=5, only_new=True)\n",
    "print(names)"
   ]
  },
  {
   "cell_type": "code",
   "execution_count": 47,
   "metadata": {},
   "outputs": [
    {
     "name": "stdout",
     "output_type": "stream",
     "text": [
      "['Herban', 'Herbeee', 'Herbylonet', 'Herbnn', 'Herbtteirah', 'Herbl', 'Herbero', 'Herbrdolian', 'Herbye', 'Herbr', 'Herbt']\n"
     ]
    }
   ],
   "source": [
    "names = sampler(model=model, start=\"herb\", n=10, k=5, only_new=False)\n",
    "print(names)"
   ]
  },
  {
   "cell_type": "code",
   "execution_count": 48,
   "metadata": {},
   "outputs": [
    {
     "name": "stdout",
     "output_type": "stream",
     "text": [
      "['Suottyaundr', 'Suma', 'Sudyyomanys', 'Suny', 'Suntahi', 'Suow', 'Sueyneseeal', 'Suounasdell', 'Suena', 'Suerythow', 'Suani']\n"
     ]
    }
   ],
   "source": [
    "names = sampler(model=model, start=\"su\", n=10, k=5, only_new=True)\n",
    "print(names)"
   ]
  },
  {
   "cell_type": "code",
   "execution_count": 49,
   "metadata": {},
   "outputs": [
    {
     "name": "stdout",
     "output_type": "stream",
     "text": [
      "['Visanys', 'Visiaus', 'Viseemmitae', 'Visiamhiemh', 'Visanee', 'Visiuroulin', 'Viserteusel', 'Visanna', 'Visrceetami', 'Visyhilowda', 'Vise']\n"
     ]
    }
   ],
   "source": [
    "names = sampler(model=model, start=\"vis\", n=10, k=5, only_new=True)\n",
    "print(names)"
   ]
  },
  {
   "cell_type": "code",
   "execution_count": 50,
   "metadata": {},
   "outputs": [
    {
     "name": "stdout",
     "output_type": "stream",
     "text": [
      "['Aexia', 'Athiur', 'Adysonienee', 'Alador', 'Alian', 'Aiett', 'Aietne', 'Atoinet', 'Ainaa', 'Ainah', 'Athuraine']\n"
     ]
    }
   ],
   "source": [
    "names = sampler(model=model, start=\"a\", n=10, k=3, only_new=True)\n",
    "print(names)"
   ]
  },
  {
   "cell_type": "code",
   "execution_count": 51,
   "metadata": {},
   "outputs": [
    {
     "name": "stdout",
     "output_type": "stream",
     "text": [
      "['Ayneallicom', 'Agispa', 'Atronzyahum', 'Aan', 'Ancrel', 'Am', 'Alydoepwecd', 'Aitrio', 'Aieme', 'Aiagh', 'Aisyzn']\n"
     ]
    }
   ],
   "source": [
    "names = sampler(model=model, start=\"a\", n=10, k=8, only_new=True)\n",
    "print(names)"
   ]
  },
  {
   "cell_type": "code",
   "execution_count": 52,
   "metadata": {},
   "outputs": [
    {
     "name": "stdout",
     "output_type": "stream",
     "text": [
      "['Aazyidyimpa', 'Axrvirwryua', 'Acpzedlpuok', 'Ar', 'Albi', 'Aeeyewtyikp', 'Aorniolnica', 'Avhdnaettae', 'Arkyndsznou', 'Aatiungdvli', 'Avnaa']\n"
     ]
    }
   ],
   "source": [
    "names = sampler(model=model, start=\"a\", n=10, k=15, only_new=True)\n",
    "print(names)"
   ]
  },
  {
   "cell_type": "code",
   "execution_count": 53,
   "metadata": {},
   "outputs": [
    {
     "name": "stdout",
     "output_type": "stream",
     "text": [
      "['Jame', 'Jamson', 'Jams', 'Jaml', 'Jamllahnahn', 'Jamer', 'Jamlla', 'Jamso', 'Jamlle', 'Jamsone', 'Jamsony']\n"
     ]
    }
   ],
   "source": [
    "names = sampler(model=model, start=\"jam\", n=10, k=2, only_new=False)\n",
    "print(names)"
   ]
  },
  {
   "cell_type": "code",
   "execution_count": null,
   "metadata": {},
   "outputs": [],
   "source": []
  }
 ],
 "metadata": {
  "kernelspec": {
   "display_name": "Dekalog",
   "language": "python",
   "name": "python3"
  },
  "language_info": {
   "codemirror_mode": {
    "name": "ipython",
    "version": 3
   },
   "file_extension": ".py",
   "mimetype": "text/x-python",
   "name": "python",
   "nbconvert_exporter": "python",
   "pygments_lexer": "ipython3",
   "version": "3.11.7"
  }
 },
 "nbformat": 4,
 "nbformat_minor": 2
}
